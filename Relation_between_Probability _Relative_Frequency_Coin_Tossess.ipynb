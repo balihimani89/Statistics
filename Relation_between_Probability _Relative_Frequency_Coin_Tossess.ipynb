{
 "cells": [
  {
   "cell_type": "code",
   "execution_count": 1,
   "metadata": {},
   "outputs": [],
   "source": [
    "import numpy as np"
   ]
  },
  {
   "cell_type": "code",
   "execution_count": 2,
   "metadata": {},
   "outputs": [
    {
     "data": {
      "text/plain": [
       "array([  500,  1000,  1500,  2000,  2500,  3000,  3500,  4000,  4500,\n",
       "        5000,  5500,  6000,  6500,  7000,  7500,  8000,  8500,  9000,\n",
       "        9500, 10000, 10500, 11000, 11500, 12000, 12500, 13000, 13500,\n",
       "       14000, 14500, 15000, 15500, 16000, 16500, 17000, 17500, 18000,\n",
       "       18500, 19000, 19500, 20000, 20500, 21000, 21500, 22000, 22500,\n",
       "       23000, 23500, 24000, 24500, 25000, 25500, 26000, 26500, 27000,\n",
       "       27500, 28000, 28500, 29000, 29500, 30000, 30500, 31000, 31500,\n",
       "       32000, 32500, 33000, 33500, 34000, 34500, 35000, 35500, 36000,\n",
       "       36500, 37000, 37500, 38000, 38500, 39000, 39500, 40000, 40500,\n",
       "       41000, 41500, 42000, 42500, 43000, 43500, 44000, 44500, 45000,\n",
       "       45500, 46000, 46500, 47000, 47500, 48000, 48500, 49000, 49500,\n",
       "       50000, 50500, 51000, 51500, 52000, 52500, 53000, 53500, 54000,\n",
       "       54500, 55000, 55500, 56000, 56500, 57000, 57500, 58000, 58500,\n",
       "       59000, 59500, 60000, 60500, 61000, 61500, 62000, 62500, 63000,\n",
       "       63500, 64000, 64500])"
      ]
     },
     "execution_count": 2,
     "metadata": {},
     "output_type": "execute_result"
    }
   ],
   "source": [
    "number_of_coin_tosses=np.arange(500,65000,500)\n",
    "number_of_coin_tosses"
   ]
  },
  {
   "cell_type": "code",
   "execution_count": 3,
   "metadata": {},
   "outputs": [],
   "source": [
    "sample_coin_toss_results=np.random.binomial(n=1,p=0.5,size=number_of_coin_tosses[0])"
   ]
  },
  {
   "cell_type": "code",
   "execution_count": 4,
   "metadata": {},
   "outputs": [
    {
     "data": {
      "text/plain": [
       "500"
      ]
     },
     "execution_count": 4,
     "metadata": {},
     "output_type": "execute_result"
    }
   ],
   "source": [
    "number_of_coin_tosses[0]"
   ]
  },
  {
   "cell_type": "code",
   "execution_count": 5,
   "metadata": {},
   "outputs": [
    {
     "data": {
      "text/plain": [
       "array([0, 0, 1, 1, 0, 0, 1, 1, 1, 0, 0, 0, 1, 1, 1, 0, 0, 1, 0, 1, 0, 0,\n",
       "       1, 0, 0, 0, 0, 0, 0, 1, 0, 1, 0, 1, 0, 1, 0, 1, 1, 0, 0, 1, 1, 0,\n",
       "       1, 0, 1, 0, 1, 0, 1, 1, 1, 1, 1, 0, 1, 0, 1, 0, 0, 1, 0, 0, 0, 0,\n",
       "       0, 0, 1, 1, 1, 1, 1, 1, 0, 1, 0, 1, 1, 1, 1, 0, 0, 0, 0, 0, 1, 1,\n",
       "       1, 1, 0, 1, 0, 0, 1, 0, 1, 0, 1, 1, 1, 1, 0, 0, 1, 0, 1, 1, 1, 1,\n",
       "       0, 0, 0, 0, 1, 0, 0, 1, 0, 0, 0, 1, 0, 0, 0, 0, 1, 1, 1, 0, 1, 0,\n",
       "       0, 1, 1, 1, 1, 1, 1, 0, 0, 1, 1, 1, 1, 0, 0, 0, 0, 1, 0, 1, 0, 1,\n",
       "       1, 1, 1, 0, 0, 1, 0, 0, 0, 0, 0, 1, 1, 0, 1, 0, 0, 0, 1, 0, 0, 0,\n",
       "       0, 0, 0, 1, 1, 0, 1, 0, 0, 0, 0, 1, 0, 0, 0, 1, 0, 1, 0, 0, 1, 1,\n",
       "       1, 1, 1, 1, 1, 0, 1, 0, 1, 1, 1, 1, 1, 1, 0, 1, 0, 0, 0, 1, 0, 1,\n",
       "       1, 1, 0, 0, 1, 1, 0, 1, 0, 1, 0, 0, 1, 0, 1, 0, 0, 1, 1, 1, 0, 0,\n",
       "       0, 0, 0, 0, 0, 0, 1, 1, 0, 1, 0, 1, 1, 0, 0, 0, 0, 1, 1, 0, 1, 0,\n",
       "       0, 1, 0, 0, 1, 1, 1, 1, 0, 0, 1, 1, 0, 1, 1, 1, 1, 1, 1, 1, 0, 1,\n",
       "       1, 0, 0, 0, 1, 1, 1, 0, 0, 1, 0, 1, 1, 0, 0, 0, 0, 0, 0, 1, 1, 1,\n",
       "       1, 0, 1, 0, 1, 1, 1, 1, 1, 1, 1, 1, 0, 0, 1, 1, 0, 1, 0, 1, 1, 1,\n",
       "       0, 0, 1, 0, 1, 1, 1, 1, 0, 0, 1, 1, 0, 1, 0, 1, 1, 0, 0, 0, 0, 1,\n",
       "       1, 1, 0, 1, 0, 1, 0, 1, 0, 0, 0, 0, 0, 0, 1, 0, 1, 1, 0, 1, 1, 1,\n",
       "       0, 0, 1, 1, 0, 1, 1, 0, 1, 0, 0, 1, 1, 0, 1, 0, 0, 1, 1, 0, 1, 1,\n",
       "       0, 0, 0, 1, 0, 1, 1, 0, 1, 0, 0, 1, 0, 1, 1, 1, 1, 1, 0, 1, 1, 0,\n",
       "       0, 1, 0, 0, 1, 0, 1, 1, 0, 1, 1, 0, 0, 0, 1, 1, 1, 0, 0, 1, 1, 1,\n",
       "       1, 0, 1, 1, 1, 0, 1, 0, 1, 1, 1, 0, 0, 0, 0, 1, 0, 0, 0, 1, 1, 0,\n",
       "       1, 1, 1, 1, 1, 0, 1, 0, 0, 1, 0, 0, 0, 0, 0, 1, 0, 0, 0, 1, 1, 1,\n",
       "       0, 0, 1, 0, 1, 0, 0, 0, 1, 1, 0, 0, 0, 1, 0, 0])"
      ]
     },
     "execution_count": 5,
     "metadata": {},
     "output_type": "execute_result"
    }
   ],
   "source": [
    "sample_coin_toss_results"
   ]
  },
  {
   "cell_type": "code",
   "execution_count": 6,
   "metadata": {},
   "outputs": [],
   "source": [
    "sample_coin_toss_results=np.random.binomial(n=number_of_coin_tosses[0],p=0.5,size=1)"
   ]
  },
  {
   "cell_type": "code",
   "execution_count": 7,
   "metadata": {},
   "outputs": [
    {
     "data": {
      "text/plain": [
       "array([243])"
      ]
     },
     "execution_count": 7,
     "metadata": {},
     "output_type": "execute_result"
    }
   ],
   "source": [
    "sample_coin_toss_results"
   ]
  },
  {
   "cell_type": "code",
   "execution_count": 8,
   "metadata": {},
   "outputs": [],
   "source": [
    "sample_coin_toss_results=[]"
   ]
  },
  {
   "cell_type": "code",
   "execution_count": 9,
   "metadata": {},
   "outputs": [
    {
     "data": {
      "text/plain": [
       "[array([258]),\n",
       " array([525]),\n",
       " array([768]),\n",
       " array([1011]),\n",
       " array([1256]),\n",
       " array([1486]),\n",
       " array([1755]),\n",
       " array([2009]),\n",
       " array([2234]),\n",
       " array([2470]),\n",
       " array([2717]),\n",
       " array([2942]),\n",
       " array([3208]),\n",
       " array([3400]),\n",
       " array([3772]),\n",
       " array([4026]),\n",
       " array([4252]),\n",
       " array([4501]),\n",
       " array([4719]),\n",
       " array([5017]),\n",
       " array([5254]),\n",
       " array([5527]),\n",
       " array([5693]),\n",
       " array([5956]),\n",
       " array([6226]),\n",
       " array([6623]),\n",
       " array([6788]),\n",
       " array([7067]),\n",
       " array([7253]),\n",
       " array([7518]),\n",
       " array([7666]),\n",
       " array([8046]),\n",
       " array([8209]),\n",
       " array([8470]),\n",
       " array([8686]),\n",
       " array([9022]),\n",
       " array([9327]),\n",
       " array([9466]),\n",
       " array([9709]),\n",
       " array([10005]),\n",
       " array([10289]),\n",
       " array([10552]),\n",
       " array([10807]),\n",
       " array([10983]),\n",
       " array([11280]),\n",
       " array([11629]),\n",
       " array([11860]),\n",
       " array([11862]),\n",
       " array([12159]),\n",
       " array([12447]),\n",
       " array([12881]),\n",
       " array([13045]),\n",
       " array([13179]),\n",
       " array([13478]),\n",
       " array([13797]),\n",
       " array([13961]),\n",
       " array([14165]),\n",
       " array([14558]),\n",
       " array([14723]),\n",
       " array([14961]),\n",
       " array([15192]),\n",
       " array([15498]),\n",
       " array([15959]),\n",
       " array([15896]),\n",
       " array([16337]),\n",
       " array([16400]),\n",
       " array([16688]),\n",
       " array([17031]),\n",
       " array([17154]),\n",
       " array([17481]),\n",
       " array([17827]),\n",
       " array([18132]),\n",
       " array([18338]),\n",
       " array([18557]),\n",
       " array([18721]),\n",
       " array([18957]),\n",
       " array([19206]),\n",
       " array([19431]),\n",
       " array([19667]),\n",
       " array([20182]),\n",
       " array([20331]),\n",
       " array([20279]),\n",
       " array([20776]),\n",
       " array([21061]),\n",
       " array([21109]),\n",
       " array([21533]),\n",
       " array([21876]),\n",
       " array([21869]),\n",
       " array([22286]),\n",
       " array([22486]),\n",
       " array([22793]),\n",
       " array([23102]),\n",
       " array([23270]),\n",
       " array([23668]),\n",
       " array([23603]),\n",
       " array([23983]),\n",
       " array([24383]),\n",
       " array([24230]),\n",
       " array([24687]),\n",
       " array([24932]),\n",
       " array([25242]),\n",
       " array([25463]),\n",
       " array([25529]),\n",
       " array([26118]),\n",
       " array([26274]),\n",
       " array([26501]),\n",
       " array([26870]),\n",
       " array([27087]),\n",
       " array([26830]),\n",
       " array([27630]),\n",
       " array([27873]),\n",
       " array([28042]),\n",
       " array([27866]),\n",
       " array([28539]),\n",
       " array([28620]),\n",
       " array([29034]),\n",
       " array([29125]),\n",
       " array([29686]),\n",
       " array([29652]),\n",
       " array([30021]),\n",
       " array([30604]),\n",
       " array([30649]),\n",
       " array([30708]),\n",
       " array([30943]),\n",
       " array([31321]),\n",
       " array([31544]),\n",
       " array([31715]),\n",
       " array([31909]),\n",
       " array([32240])]"
      ]
     },
     "execution_count": 9,
     "metadata": {},
     "output_type": "execute_result"
    }
   ],
   "source": [
    "# for calculating no of heads directly\n",
    "No_of_heads_in_coin_tosses=[]\n",
    "for N in number_of_coin_tosses:\n",
    "    No_of_heads_in_coin_tosses.append(np.random.binomial(n=N,p=0.5,size=1))\n",
    "No_of_heads_in_coin_tosses"
   ]
  },
  {
   "cell_type": "code",
   "execution_count": 10,
   "metadata": {},
   "outputs": [
    {
     "data": {
      "text/plain": [
       "array([[  258],\n",
       "       [  525],\n",
       "       [  768],\n",
       "       [ 1011],\n",
       "       [ 1256],\n",
       "       [ 1486],\n",
       "       [ 1755],\n",
       "       [ 2009],\n",
       "       [ 2234],\n",
       "       [ 2470],\n",
       "       [ 2717],\n",
       "       [ 2942],\n",
       "       [ 3208],\n",
       "       [ 3400],\n",
       "       [ 3772],\n",
       "       [ 4026],\n",
       "       [ 4252],\n",
       "       [ 4501],\n",
       "       [ 4719],\n",
       "       [ 5017],\n",
       "       [ 5254],\n",
       "       [ 5527],\n",
       "       [ 5693],\n",
       "       [ 5956],\n",
       "       [ 6226],\n",
       "       [ 6623],\n",
       "       [ 6788],\n",
       "       [ 7067],\n",
       "       [ 7253],\n",
       "       [ 7518],\n",
       "       [ 7666],\n",
       "       [ 8046],\n",
       "       [ 8209],\n",
       "       [ 8470],\n",
       "       [ 8686],\n",
       "       [ 9022],\n",
       "       [ 9327],\n",
       "       [ 9466],\n",
       "       [ 9709],\n",
       "       [10005],\n",
       "       [10289],\n",
       "       [10552],\n",
       "       [10807],\n",
       "       [10983],\n",
       "       [11280],\n",
       "       [11629],\n",
       "       [11860],\n",
       "       [11862],\n",
       "       [12159],\n",
       "       [12447],\n",
       "       [12881],\n",
       "       [13045],\n",
       "       [13179],\n",
       "       [13478],\n",
       "       [13797],\n",
       "       [13961],\n",
       "       [14165],\n",
       "       [14558],\n",
       "       [14723],\n",
       "       [14961],\n",
       "       [15192],\n",
       "       [15498],\n",
       "       [15959],\n",
       "       [15896],\n",
       "       [16337],\n",
       "       [16400],\n",
       "       [16688],\n",
       "       [17031],\n",
       "       [17154],\n",
       "       [17481],\n",
       "       [17827],\n",
       "       [18132],\n",
       "       [18338],\n",
       "       [18557],\n",
       "       [18721],\n",
       "       [18957],\n",
       "       [19206],\n",
       "       [19431],\n",
       "       [19667],\n",
       "       [20182],\n",
       "       [20331],\n",
       "       [20279],\n",
       "       [20776],\n",
       "       [21061],\n",
       "       [21109],\n",
       "       [21533],\n",
       "       [21876],\n",
       "       [21869],\n",
       "       [22286],\n",
       "       [22486],\n",
       "       [22793],\n",
       "       [23102],\n",
       "       [23270],\n",
       "       [23668],\n",
       "       [23603],\n",
       "       [23983],\n",
       "       [24383],\n",
       "       [24230],\n",
       "       [24687],\n",
       "       [24932],\n",
       "       [25242],\n",
       "       [25463],\n",
       "       [25529],\n",
       "       [26118],\n",
       "       [26274],\n",
       "       [26501],\n",
       "       [26870],\n",
       "       [27087],\n",
       "       [26830],\n",
       "       [27630],\n",
       "       [27873],\n",
       "       [28042],\n",
       "       [27866],\n",
       "       [28539],\n",
       "       [28620],\n",
       "       [29034],\n",
       "       [29125],\n",
       "       [29686],\n",
       "       [29652],\n",
       "       [30021],\n",
       "       [30604],\n",
       "       [30649],\n",
       "       [30708],\n",
       "       [30943],\n",
       "       [31321],\n",
       "       [31544],\n",
       "       [31715],\n",
       "       [31909],\n",
       "       [32240]])"
      ]
     },
     "execution_count": 10,
     "metadata": {},
     "output_type": "execute_result"
    }
   ],
   "source": [
    "No_of_heads_in_coin_tosses=np.array(No_of_heads_in_coin_tosses)\n",
    "No_of_heads_in_coin_tosses"
   ]
  },
  {
   "cell_type": "code",
   "execution_count": 11,
   "metadata": {},
   "outputs": [
    {
     "data": {
      "text/plain": [
       "(129, 1)"
      ]
     },
     "execution_count": 11,
     "metadata": {},
     "output_type": "execute_result"
    }
   ],
   "source": [
    "No_of_heads_in_coin_tosses.shape"
   ]
  },
  {
   "cell_type": "code",
   "execution_count": 12,
   "metadata": {},
   "outputs": [
    {
     "data": {
      "text/plain": [
       "(129,)"
      ]
     },
     "execution_count": 12,
     "metadata": {},
     "output_type": "execute_result"
    }
   ],
   "source": [
    "number_of_coin_tosses.shape"
   ]
  },
  {
   "cell_type": "code",
   "execution_count": 13,
   "metadata": {},
   "outputs": [
    {
     "data": {
      "text/plain": [
       "(129, 1)"
      ]
     },
     "execution_count": 13,
     "metadata": {},
     "output_type": "execute_result"
    }
   ],
   "source": [
    "# to calculate the relative frequency, both variables should have same shape\n",
    "number_of_coin_tosses=number_of_coin_tosses.reshape(number_of_coin_tosses.shape[0],1)\n",
    "number_of_coin_tosses.shape"
   ]
  },
  {
   "cell_type": "code",
   "execution_count": 14,
   "metadata": {},
   "outputs": [
    {
     "data": {
      "text/plain": [
       "array([[0.516     ],\n",
       "       [0.525     ],\n",
       "       [0.512     ],\n",
       "       [0.5055    ],\n",
       "       [0.5024    ],\n",
       "       [0.49533333],\n",
       "       [0.50142857],\n",
       "       [0.50225   ],\n",
       "       [0.49644444],\n",
       "       [0.494     ],\n",
       "       [0.494     ],\n",
       "       [0.49033333],\n",
       "       [0.49353846],\n",
       "       [0.48571429],\n",
       "       [0.50293333],\n",
       "       [0.50325   ],\n",
       "       [0.50023529],\n",
       "       [0.50011111],\n",
       "       [0.49673684],\n",
       "       [0.5017    ],\n",
       "       [0.50038095],\n",
       "       [0.50245455],\n",
       "       [0.49504348],\n",
       "       [0.49633333],\n",
       "       [0.49808   ],\n",
       "       [0.50946154],\n",
       "       [0.50281481],\n",
       "       [0.50478571],\n",
       "       [0.5002069 ],\n",
       "       [0.5012    ],\n",
       "       [0.49458065],\n",
       "       [0.502875  ],\n",
       "       [0.49751515],\n",
       "       [0.49823529],\n",
       "       [0.49634286],\n",
       "       [0.50122222],\n",
       "       [0.50416216],\n",
       "       [0.49821053],\n",
       "       [0.49789744],\n",
       "       [0.50025   ],\n",
       "       [0.50190244],\n",
       "       [0.50247619],\n",
       "       [0.50265116],\n",
       "       [0.49922727],\n",
       "       [0.50133333],\n",
       "       [0.5056087 ],\n",
       "       [0.50468085],\n",
       "       [0.49425   ],\n",
       "       [0.49628571],\n",
       "       [0.49788   ],\n",
       "       [0.50513725],\n",
       "       [0.50173077],\n",
       "       [0.49732075],\n",
       "       [0.49918519],\n",
       "       [0.50170909],\n",
       "       [0.49860714],\n",
       "       [0.49701754],\n",
       "       [0.502     ],\n",
       "       [0.49908475],\n",
       "       [0.4987    ],\n",
       "       [0.49809836],\n",
       "       [0.49993548],\n",
       "       [0.50663492],\n",
       "       [0.49675   ],\n",
       "       [0.50267692],\n",
       "       [0.4969697 ],\n",
       "       [0.49814925],\n",
       "       [0.50091176],\n",
       "       [0.49721739],\n",
       "       [0.49945714],\n",
       "       [0.50216901],\n",
       "       [0.50366667],\n",
       "       [0.50241096],\n",
       "       [0.50154054],\n",
       "       [0.49922667],\n",
       "       [0.49886842],\n",
       "       [0.49885714],\n",
       "       [0.49823077],\n",
       "       [0.49789873],\n",
       "       [0.50455   ],\n",
       "       [0.502     ],\n",
       "       [0.49460976],\n",
       "       [0.50062651],\n",
       "       [0.50145238],\n",
       "       [0.49668235],\n",
       "       [0.50076744],\n",
       "       [0.50289655],\n",
       "       [0.49702273],\n",
       "       [0.50080899],\n",
       "       [0.49968889],\n",
       "       [0.50094505],\n",
       "       [0.50221739],\n",
       "       [0.50043011],\n",
       "       [0.50357447],\n",
       "       [0.49690526],\n",
       "       [0.49964583],\n",
       "       [0.50274227],\n",
       "       [0.4944898 ],\n",
       "       [0.49872727],\n",
       "       [0.49864   ],\n",
       "       [0.49984158],\n",
       "       [0.49927451],\n",
       "       [0.49570874],\n",
       "       [0.50226923],\n",
       "       [0.50045714],\n",
       "       [0.50001887],\n",
       "       [0.50224299],\n",
       "       [0.50161111],\n",
       "       [0.49229358],\n",
       "       [0.50236364],\n",
       "       [0.50221622],\n",
       "       [0.50075   ],\n",
       "       [0.49320354],\n",
       "       [0.50068421],\n",
       "       [0.49773913],\n",
       "       [0.50058621],\n",
       "       [0.49786325],\n",
       "       [0.50315254],\n",
       "       [0.49835294],\n",
       "       [0.50035   ],\n",
       "       [0.50585124],\n",
       "       [0.50244262],\n",
       "       [0.49931707],\n",
       "       [0.49908065],\n",
       "       [0.501136  ],\n",
       "       [0.50069841],\n",
       "       [0.49944882],\n",
       "       [0.49857812],\n",
       "       [0.49984496]])"
      ]
     },
     "execution_count": 14,
     "metadata": {},
     "output_type": "execute_result"
    }
   ],
   "source": [
    "relative_frequency=No_of_heads_in_coin_tosses/number_of_coin_tosses\n",
    "relative_frequency"
   ]
  },
  {
   "cell_type": "code",
   "execution_count": 15,
   "metadata": {},
   "outputs": [],
   "source": [
    "import matplotlib.pyplot as plt"
   ]
  },
  {
   "cell_type": "code",
   "execution_count": 16,
   "metadata": {},
   "outputs": [
    {
     "data": {
      "text/plain": [
       "Text(0, 0.5, 'Relative frequency')"
      ]
     },
     "execution_count": 16,
     "metadata": {},
     "output_type": "execute_result"
    },
    {
     "data": {
      "image/png": "[encoded data removed]",
      "text/plain": [
       "<Figure size 432x288 with 1 Axes>"
      ]
     },
     "metadata": {
      "needs_background": "light"
     },
     "output_type": "display_data"
    }
   ],
   "source": [
    "plt.stem(number_of_coin_tosses,relative_frequency)\n",
    "plt.xlabel(\"Sample size of coin tossess\")\n",
    "plt.ylabel(\"Relative frequency\")"
   ]
  },
  {
   "cell_type": "code",
   "execution_count": null,
   "metadata": {},
   "outputs": [],
   "source": []
  },
  {
   "cell_type": "code",
   "execution_count": null,
   "metadata": {},
   "outputs": [],
   "source": []
  }
 ],
 "metadata": {
  "kernelspec": {
   "display_name": "Python 3",
   "language": "python",
   "name": "python3"
  },
  "language_info": {
   "codemirror_mode": {
    "name": "ipython",
    "version": 3
   },
   "file_extension": ".py",
   "mimetype": "text/x-python",
   "name": "python",
   "nbconvert_exporter": "python",
   "pygments_lexer": "ipython3",
   "version": "3.7.3"
  }
 },
 "nbformat": 4,
 "nbformat_minor": 2
}
