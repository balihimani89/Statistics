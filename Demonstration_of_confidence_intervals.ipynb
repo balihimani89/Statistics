{
 "cells": [
  {
   "cell_type": "code",
   "execution_count": 26,
   "metadata": {},
   "outputs": [],
   "source": [
    "import pandas as pd\n",
    "import numpy as np"
   ]
  },
  {
   "cell_type": "code",
   "execution_count": 27,
   "metadata": {},
   "outputs": [],
   "source": [
    "samples=np.random.normal(loc=65,scale=5,size=(100,35))"
   ]
  },
  {
   "cell_type": "code",
   "execution_count": 28,
   "metadata": {},
   "outputs": [
    {
     "data": {
      "text/plain": [
       "array([65.65691326, 66.63927863, 64.64559417, 64.16270179, 66.22091418,\n",
       "       63.52357416, 64.75302463, 64.89388773, 65.21350239, 64.4070212 ,\n",
       "       65.42847749, 65.21450041, 64.606729  , 65.24102537, 65.24511639,\n",
       "       65.29349627, 66.29088491, 66.3476594 , 65.70841752, 64.86849505,\n",
       "       64.89516074, 65.51779672, 65.29387794, 64.20164592, 63.47173274,\n",
       "       64.80054831, 65.69729421, 65.83743661, 64.59365418, 64.42608433,\n",
       "       65.48669426, 65.9176771 , 63.90970025, 65.84094642, 65.3550204 ,\n",
       "       64.04367074, 64.59010305, 65.14513418, 65.12690452, 64.81665217,\n",
       "       63.93720849, 64.48203122, 64.23977096, 64.69420996, 64.58120252,\n",
       "       64.97454467, 64.91899681, 66.08765839, 64.11274649, 66.47651922,\n",
       "       64.69122949, 64.08698895, 64.77109026, 64.58804256, 65.80964504,\n",
       "       65.67744683, 65.25130938, 64.60281708, 65.59538975, 66.37327318,\n",
       "       64.55111478, 65.10689278, 63.4882556 , 64.94501045, 63.40988284,\n",
       "       66.15490884, 64.94463058, 64.96220801, 64.53405322, 64.71835326,\n",
       "       65.24580715, 64.97021162, 63.88570113, 66.15393476, 65.16203903,\n",
       "       65.3157087 , 63.76918939, 65.0384626 , 65.33320459, 66.43751683,\n",
       "       63.26626515, 64.15925405, 64.8648405 , 64.70735545, 64.86376267,\n",
       "       64.09876702, 65.49456554, 63.96915536, 64.86827832, 63.84327419,\n",
       "       64.86832247, 64.67049997, 64.1898567 , 66.17931265, 65.5652088 ,\n",
       "       65.36452954, 63.75481066, 63.59134754, 65.61053673, 67.34058219])"
      ]
     },
     "execution_count": 28,
     "metadata": {},
     "output_type": "execute_result"
    }
   ],
   "source": [
    "sample_means=np.mean(samples,axis=1)\n",
    "sample_means"
   ]
  },
  {
   "cell_type": "code",
   "execution_count": 29,
   "metadata": {},
   "outputs": [],
   "source": [
    "import matplotlib.pyplot as plt"
   ]
  },
  {
   "cell_type": "code",
   "execution_count": 30,
   "metadata": {},
   "outputs": [
    {
     "data": {
      "text/plain": [
       "(array([ 6.,  8., 11., 25., 19., 15.,  5.,  9.,  1.,  1.]),\n",
       " array([63.26626515, 63.67369685, 64.08112856, 64.48856026, 64.89599197,\n",
       "        65.30342367, 65.71085537, 66.11828708, 66.52571878, 66.93315049,\n",
       "        67.34058219]),\n",
       " <a list of 10 Patch objects>)"
      ]
     },
     "execution_count": 30,
     "metadata": {},
     "output_type": "execute_result"
    },
    {
     "data": {
      "image/png": "[encoded data removed]",
      "text/plain": [
       "<Figure size 432x288 with 1 Axes>"
      ]
     },
     "metadata": {
      "needs_background": "light"
     },
     "output_type": "display_data"
    }
   ],
   "source": [
    "plt.hist(sample_means)"
   ]
  },
  {
   "cell_type": "code",
   "execution_count": 31,
   "metadata": {},
   "outputs": [
    {
     "data": {
      "text/plain": [
       "64.96678681664334"
      ]
     },
     "execution_count": 31,
     "metadata": {},
     "output_type": "execute_result"
    }
   ],
   "source": [
    "mu_hat_best=np.mean(sample_means)\n",
    "mu_hat_best"
   ]
  },
  {
   "cell_type": "code",
   "execution_count": 32,
   "metadata": {},
   "outputs": [
    {
     "data": {
      "text/plain": [
       "0.6544899586976236"
      ]
     },
     "execution_count": 32,
     "metadata": {},
     "output_type": "execute_result"
    }
   ],
   "source": [
    "np.var(sample_means)"
   ]
  },
  {
   "cell_type": "code",
   "execution_count": 33,
   "metadata": {},
   "outputs": [
    {
     "data": {
      "text/plain": [
       "0.7142857142857143"
      ]
     },
     "execution_count": 33,
     "metadata": {},
     "output_type": "execute_result"
    }
   ],
   "source": [
    "sampling_dist_variance=5**2/35\n",
    "sampling_dist_variance"
   ]
  },
  {
   "cell_type": "code",
   "execution_count": 35,
   "metadata": {},
   "outputs": [
    {
     "data": {
      "text/plain": [
       "0.8090055368769881"
      ]
     },
     "execution_count": 35,
     "metadata": {},
     "output_type": "execute_result"
    }
   ],
   "source": [
    "np.sqrt(np.var(sample_means))"
   ]
  },
  {
   "cell_type": "code",
   "execution_count": 36,
   "metadata": {},
   "outputs": [
    {
     "data": {
      "text/plain": [
       "66.55243766892224"
      ]
     },
     "execution_count": 36,
     "metadata": {},
     "output_type": "execute_result"
    }
   ],
   "source": [
    "ucb=mu_hat_best+1.96*(np.sqrt(np.var(sample_means)))\n",
    "ucb"
   ]
  },
  {
   "cell_type": "code",
   "execution_count": 37,
   "metadata": {},
   "outputs": [
    {
     "data": {
      "text/plain": [
       "63.38113596436444"
      ]
     },
     "execution_count": 37,
     "metadata": {},
     "output_type": "execute_result"
    }
   ],
   "source": [
    "lcb=mu_hat_best-1.96*(np.sqrt(np.var(sample_means)))\n",
    "lcb"
   ]
  },
  {
   "cell_type": "code",
   "execution_count": 38,
   "metadata": {},
   "outputs": [
    {
     "data": {
      "text/plain": [
       "array([65.03011189, 64.9296863 , 64.76203951, 65.55009975, 64.60632576,\n",
       "       65.20110586, 64.64119793, 66.14368506, 65.15934227, 63.92696193,\n",
       "       64.02963866, 66.51481115, 66.30374344, 66.24465346, 65.84305146,\n",
       "       64.58166738, 65.64249123, 65.39207605, 65.44843365, 65.67505009,\n",
       "       65.88177047, 67.15707677, 66.87036043, 65.33850491, 63.65828273,\n",
       "       65.34348775, 64.42888172, 65.2722331 , 65.39607771, 64.50706547,\n",
       "       64.59031098, 64.21394386, 65.96369197, 65.45001441, 64.07897974,\n",
       "       65.58404173, 65.32854185, 64.94246313, 64.6979718 , 63.92344403,\n",
       "       64.80027241, 66.18717777, 63.91324791, 63.94053788, 63.54652263,\n",
       "       65.92479585, 65.17221217, 65.45532544, 64.72455742, 64.30555111,\n",
       "       65.12344506, 66.79626346, 64.78845106, 65.14118909, 65.09425908,\n",
       "       65.39647327, 65.65151246, 63.91972525, 65.34873249, 64.59157546,\n",
       "       65.85957846, 64.00764134, 64.08706821, 64.8605576 , 65.32117839,\n",
       "       63.99154656, 66.53502978, 65.48540194, 63.89512784, 65.07296909,\n",
       "       65.70706839, 64.59556909, 64.92447777, 63.90063742, 65.7117883 ,\n",
       "       64.43097808, 65.06421069, 64.1595251 , 64.08675597, 65.89112584,\n",
       "       66.2645579 , 66.44066919, 65.22847158, 64.96683711, 65.48902955,\n",
       "       64.11955467, 63.81532448, 64.65012217, 64.80919592, 64.61257401,\n",
       "       63.94484153, 64.76875178, 64.1966333 , 64.96782865, 64.50389359,\n",
       "       62.75029325, 65.85310553, 65.83439418, 64.44785979, 65.03250154])"
      ]
     },
     "execution_count": 38,
     "metadata": {},
     "output_type": "execute_result"
    }
   ],
   "source": [
    "sample_withdrawn=np.random.normal(loc=mu_hat_best,scale=np.sqrt(np.var(sample_means)),size=100)\n",
    "sample_withdrawn"
   ]
  },
  {
   "cell_type": "code",
   "execution_count": 42,
   "metadata": {},
   "outputs": [
    {
     "data": {
      "text/plain": [
       "array([ True,  True,  True,  True,  True,  True,  True,  True,  True,\n",
       "        True,  True,  True,  True,  True,  True,  True,  True,  True,\n",
       "        True,  True,  True, False, False,  True,  True,  True,  True,\n",
       "        True,  True,  True,  True,  True,  True,  True,  True,  True,\n",
       "        True,  True,  True,  True,  True,  True,  True,  True,  True,\n",
       "        True,  True,  True,  True,  True,  True, False,  True,  True,\n",
       "        True,  True,  True,  True,  True,  True,  True,  True,  True,\n",
       "        True,  True,  True,  True,  True,  True,  True,  True,  True,\n",
       "        True,  True,  True,  True,  True,  True,  True,  True,  True,\n",
       "        True,  True,  True,  True,  True,  True,  True,  True,  True,\n",
       "        True,  True,  True,  True,  True, False,  True,  True,  True,\n",
       "        True])"
      ]
     },
     "execution_count": 42,
     "metadata": {},
     "output_type": "execute_result"
    }
   ],
   "source": [
    "samples_bt_ucd_lcb=(sample_withdrawn>lcb) & (sample_withdrawn<ucb)\n",
    "samples_bt_ucd_lcb"
   ]
  },
  {
   "cell_type": "code",
   "execution_count": 44,
   "metadata": {},
   "outputs": [
    {
     "data": {
      "text/plain": [
       "96"
      ]
     },
     "execution_count": 44,
     "metadata": {},
     "output_type": "execute_result"
    }
   ],
   "source": [
    "np.count_nonzero(samples_bt_ucd_lcb)  #true values =1 are 96"
   ]
  },
  {
   "cell_type": "code",
   "execution_count": 48,
   "metadata": {},
   "outputs": [],
   "source": [
    "#we can also take it as \n",
    "std=np.std(sample_means)"
   ]
  },
  {
   "cell_type": "code",
   "execution_count": 49,
   "metadata": {},
   "outputs": [
    {
     "data": {
      "text/plain": [
       "63.38113596436444"
      ]
     },
     "execution_count": 49,
     "metadata": {},
     "output_type": "execute_result"
    }
   ],
   "source": [
    "lcb_new=mu_hat_best-1.96*std\n",
    "lcb_new"
   ]
  },
  {
   "cell_type": "code",
   "execution_count": 50,
   "metadata": {},
   "outputs": [],
   "source": [
    "#lcb=lcb_new"
   ]
  },
  {
   "cell_type": "code",
   "execution_count": null,
   "metadata": {},
   "outputs": [],
   "source": []
  }
 ],
 "metadata": {
  "kernelspec": {
   "display_name": "Python 3",
   "language": "python",
   "name": "python3"
  },
  "language_info": {
   "codemirror_mode": {
    "name": "ipython",
    "version": 3
   },
   "file_extension": ".py",
   "mimetype": "text/x-python",
   "name": "python",
   "nbconvert_exporter": "python",
   "pygments_lexer": "ipython3",
   "version": "3.7.3"
  }
 },
 "nbformat": 4,
 "nbformat_minor": 2
}
