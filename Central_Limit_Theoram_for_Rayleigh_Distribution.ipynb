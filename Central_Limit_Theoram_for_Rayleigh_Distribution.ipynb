{
 "cells": [
  {
   "cell_type": "code",
   "execution_count": 1,
   "metadata": {},
   "outputs": [],
   "source": [
    "import numpy as np"
   ]
  },
  {
   "cell_type": "code",
   "execution_count": 2,
   "metadata": {},
   "outputs": [],
   "source": [
    "sample_rayleigh=np.random.rayleigh(scale=11,size=(100,15))"
   ]
  },
  {
   "cell_type": "code",
   "execution_count": 3,
   "metadata": {},
   "outputs": [],
   "source": [
    "import scipy.stats as s"
   ]
  },
  {
   "cell_type": "code",
   "execution_count": 4,
   "metadata": {},
   "outputs": [
    {
     "data": {
      "text/plain": [
       "array([13.84172335, 16.06511386, 13.69506931, 12.64270472, 16.1412171 ,\n",
       "       11.21325623, 14.51158289, 17.1692003 , 14.35946103, 14.31641251,\n",
       "       12.45432094, 15.53223281, 12.05752621, 15.22072312, 12.77617388,\n",
       "       12.93429801, 13.64082998, 13.50327085, 13.72923024, 15.5608335 ,\n",
       "       12.85471037, 16.4414588 , 12.73512987, 12.4988908 , 18.93818569,\n",
       "       12.77397841, 18.72666726, 13.13358579, 16.71008465, 16.71198584,\n",
       "       13.00918883, 10.70669078, 17.10274099, 15.05467923, 12.87501094,\n",
       "       13.39060833, 14.65448916, 13.31852574, 17.00865318, 13.91852639,\n",
       "       13.95162081, 11.61257698, 14.42739216, 14.08084965, 13.80276588,\n",
       "       12.25261033, 12.20763632, 19.20797396, 16.41455393, 14.52991897,\n",
       "       11.8242083 , 13.62951081, 13.06936441, 14.95149451, 13.99864689,\n",
       "       13.32404203, 11.96848928, 16.02595733, 12.22342818, 12.0929444 ,\n",
       "       14.68640827, 13.44377233, 11.43334167, 11.77933159, 11.22482566,\n",
       "       11.82129734, 14.56942685, 12.36657136, 18.3228039 , 12.17419679,\n",
       "       10.80247692, 14.21578506, 11.76270603, 13.25781917, 16.38178654,\n",
       "       15.61144958, 12.08419502, 10.6624663 , 14.89100542, 13.16052585,\n",
       "       12.31881351, 13.00435577, 15.45372056, 13.99245393, 10.18995256,\n",
       "       15.34179931, 15.69559633, 12.97071778, 16.98979097, 12.59133242,\n",
       "       15.00689227, 12.87703934, 10.16927068, 12.36544955, 16.48630553,\n",
       "       11.72679756, 11.90806813, 12.01912467, 15.04235823, 12.32201988])"
      ]
     },
     "execution_count": 4,
     "metadata": {},
     "output_type": "execute_result"
    }
   ],
   "source": [
    "sample_means=np.mean(sample_rayleigh,axis=1)\n",
    "sample_means"
   ]
  },
  {
   "cell_type": "code",
   "execution_count": 5,
   "metadata": {},
   "outputs": [
    {
     "data": {
      "text/plain": [
       "ModeResult(mode=array([[1.08292249],\n",
       "       [2.94710746],\n",
       "       [5.558556  ],\n",
       "       [3.45515667],\n",
       "       [4.73732968],\n",
       "       [4.22275749],\n",
       "       [1.89909199],\n",
       "       [5.86083612],\n",
       "       [4.3621316 ],\n",
       "       [7.15005744],\n",
       "       [4.89510195],\n",
       "       [2.83758319],\n",
       "       [2.65532885],\n",
       "       [6.72769436],\n",
       "       [2.4814621 ],\n",
       "       [2.87820761],\n",
       "       [3.93868695],\n",
       "       [3.85151331],\n",
       "       [2.51769728],\n",
       "       [3.4248805 ],\n",
       "       [2.63837014],\n",
       "       [2.07521073],\n",
       "       [2.35070778],\n",
       "       [2.24457396],\n",
       "       [6.52968673],\n",
       "       [3.13979517],\n",
       "       [5.13592166],\n",
       "       [3.49560057],\n",
       "       [5.69128514],\n",
       "       [6.96374826],\n",
       "       [1.88959088],\n",
       "       [2.58158545],\n",
       "       [4.65042854],\n",
       "       [2.81815225],\n",
       "       [1.67873195],\n",
       "       [7.31508391],\n",
       "       [5.18482556],\n",
       "       [5.58945098],\n",
       "       [3.41720166],\n",
       "       [4.3385191 ],\n",
       "       [2.4171075 ],\n",
       "       [5.16923942],\n",
       "       [7.71683859],\n",
       "       [2.85877367],\n",
       "       [3.76564397],\n",
       "       [1.0100374 ],\n",
       "       [2.50803264],\n",
       "       [6.17195574],\n",
       "       [3.10888238],\n",
       "       [3.6861321 ],\n",
       "       [0.51252495],\n",
       "       [2.65818577],\n",
       "       [7.57572034],\n",
       "       [4.59357236],\n",
       "       [4.0733753 ],\n",
       "       [3.1674095 ],\n",
       "       [2.99846458],\n",
       "       [5.04103809],\n",
       "       [4.24559325],\n",
       "       [3.22422288],\n",
       "       [6.14822098],\n",
       "       [1.21072596],\n",
       "       [5.46857804],\n",
       "       [2.94915291],\n",
       "       [2.42565936],\n",
       "       [1.39873265],\n",
       "       [2.68042301],\n",
       "       [2.36284671],\n",
       "       [4.41537889],\n",
       "       [5.32146767],\n",
       "       [3.81820447],\n",
       "       [3.88302733],\n",
       "       [4.58913911],\n",
       "       [5.01519487],\n",
       "       [3.149343  ],\n",
       "       [6.04447983],\n",
       "       [0.77283307],\n",
       "       [1.31212808],\n",
       "       [6.36207832],\n",
       "       [1.15155924],\n",
       "       [2.65937296],\n",
       "       [5.00760724],\n",
       "       [4.83127099],\n",
       "       [5.17485254],\n",
       "       [1.41507595],\n",
       "       [4.74972254],\n",
       "       [0.94205459],\n",
       "       [0.12148347],\n",
       "       [6.08565725],\n",
       "       [4.73157535],\n",
       "       [5.58367062],\n",
       "       [5.80005525],\n",
       "       [1.86371918],\n",
       "       [6.05928316],\n",
       "       [7.81849189],\n",
       "       [4.09127409],\n",
       "       [2.12740716],\n",
       "       [1.57348538],\n",
       "       [7.3035321 ],\n",
       "       [1.51757342]]), count=array([[1],\n",
       "       [1],\n",
       "       [1],\n",
       "       [1],\n",
       "       [1],\n",
       "       [1],\n",
       "       [1],\n",
       "       [1],\n",
       "       [1],\n",
       "       [1],\n",
       "       [1],\n",
       "       [1],\n",
       "       [1],\n",
       "       [1],\n",
       "       [1],\n",
       "       [1],\n",
       "       [1],\n",
       "       [1],\n",
       "       [1],\n",
       "       [1],\n",
       "       [1],\n",
       "       [1],\n",
       "       [1],\n",
       "       [1],\n",
       "       [1],\n",
       "       [1],\n",
       "       [1],\n",
       "       [1],\n",
       "       [1],\n",
       "       [1],\n",
       "       [1],\n",
       "       [1],\n",
       "       [1],\n",
       "       [1],\n",
       "       [1],\n",
       "       [1],\n",
       "       [1],\n",
       "       [1],\n",
       "       [1],\n",
       "       [1],\n",
       "       [1],\n",
       "       [1],\n",
       "       [1],\n",
       "       [1],\n",
       "       [1],\n",
       "       [1],\n",
       "       [1],\n",
       "       [1],\n",
       "       [1],\n",
       "       [1],\n",
       "       [1],\n",
       "       [1],\n",
       "       [1],\n",
       "       [1],\n",
       "       [1],\n",
       "       [1],\n",
       "       [1],\n",
       "       [1],\n",
       "       [1],\n",
       "       [1],\n",
       "       [1],\n",
       "       [1],\n",
       "       [1],\n",
       "       [1],\n",
       "       [1],\n",
       "       [1],\n",
       "       [1],\n",
       "       [1],\n",
       "       [1],\n",
       "       [1],\n",
       "       [1],\n",
       "       [1],\n",
       "       [1],\n",
       "       [1],\n",
       "       [1],\n",
       "       [1],\n",
       "       [1],\n",
       "       [1],\n",
       "       [1],\n",
       "       [1],\n",
       "       [1],\n",
       "       [1],\n",
       "       [1],\n",
       "       [1],\n",
       "       [1],\n",
       "       [1],\n",
       "       [1],\n",
       "       [1],\n",
       "       [1],\n",
       "       [1],\n",
       "       [1],\n",
       "       [1],\n",
       "       [1],\n",
       "       [1],\n",
       "       [1],\n",
       "       [1],\n",
       "       [1],\n",
       "       [1],\n",
       "       [1],\n",
       "       [1]]))"
      ]
     },
     "execution_count": 5,
     "metadata": {},
     "output_type": "execute_result"
    }
   ],
   "source": [
    "sample_mode=s.mode(sample_rayleigh,axis=1)\n",
    "sample_mode"
   ]
  },
  {
   "cell_type": "code",
   "execution_count": 6,
   "metadata": {},
   "outputs": [
    {
     "data": {
      "text/plain": [
       "array([[1.08292249],\n",
       "       [2.94710746],\n",
       "       [5.558556  ],\n",
       "       [3.45515667],\n",
       "       [4.73732968],\n",
       "       [4.22275749],\n",
       "       [1.89909199],\n",
       "       [5.86083612],\n",
       "       [4.3621316 ],\n",
       "       [7.15005744],\n",
       "       [4.89510195],\n",
       "       [2.83758319],\n",
       "       [2.65532885],\n",
       "       [6.72769436],\n",
       "       [2.4814621 ],\n",
       "       [2.87820761],\n",
       "       [3.93868695],\n",
       "       [3.85151331],\n",
       "       [2.51769728],\n",
       "       [3.4248805 ],\n",
       "       [2.63837014],\n",
       "       [2.07521073],\n",
       "       [2.35070778],\n",
       "       [2.24457396],\n",
       "       [6.52968673],\n",
       "       [3.13979517],\n",
       "       [5.13592166],\n",
       "       [3.49560057],\n",
       "       [5.69128514],\n",
       "       [6.96374826],\n",
       "       [1.88959088],\n",
       "       [2.58158545],\n",
       "       [4.65042854],\n",
       "       [2.81815225],\n",
       "       [1.67873195],\n",
       "       [7.31508391],\n",
       "       [5.18482556],\n",
       "       [5.58945098],\n",
       "       [3.41720166],\n",
       "       [4.3385191 ],\n",
       "       [2.4171075 ],\n",
       "       [5.16923942],\n",
       "       [7.71683859],\n",
       "       [2.85877367],\n",
       "       [3.76564397],\n",
       "       [1.0100374 ],\n",
       "       [2.50803264],\n",
       "       [6.17195574],\n",
       "       [3.10888238],\n",
       "       [3.6861321 ],\n",
       "       [0.51252495],\n",
       "       [2.65818577],\n",
       "       [7.57572034],\n",
       "       [4.59357236],\n",
       "       [4.0733753 ],\n",
       "       [3.1674095 ],\n",
       "       [2.99846458],\n",
       "       [5.04103809],\n",
       "       [4.24559325],\n",
       "       [3.22422288],\n",
       "       [6.14822098],\n",
       "       [1.21072596],\n",
       "       [5.46857804],\n",
       "       [2.94915291],\n",
       "       [2.42565936],\n",
       "       [1.39873265],\n",
       "       [2.68042301],\n",
       "       [2.36284671],\n",
       "       [4.41537889],\n",
       "       [5.32146767],\n",
       "       [3.81820447],\n",
       "       [3.88302733],\n",
       "       [4.58913911],\n",
       "       [5.01519487],\n",
       "       [3.149343  ],\n",
       "       [6.04447983],\n",
       "       [0.77283307],\n",
       "       [1.31212808],\n",
       "       [6.36207832],\n",
       "       [1.15155924],\n",
       "       [2.65937296],\n",
       "       [5.00760724],\n",
       "       [4.83127099],\n",
       "       [5.17485254],\n",
       "       [1.41507595],\n",
       "       [4.74972254],\n",
       "       [0.94205459],\n",
       "       [0.12148347],\n",
       "       [6.08565725],\n",
       "       [4.73157535],\n",
       "       [5.58367062],\n",
       "       [5.80005525],\n",
       "       [1.86371918],\n",
       "       [6.05928316],\n",
       "       [7.81849189],\n",
       "       [4.09127409],\n",
       "       [2.12740716],\n",
       "       [1.57348538],\n",
       "       [7.3035321 ],\n",
       "       [1.51757342]])"
      ]
     },
     "execution_count": 6,
     "metadata": {},
     "output_type": "execute_result"
    }
   ],
   "source": [
    "sample_mode=sample_mode[0]\n",
    "sample_mode"
   ]
  },
  {
   "cell_type": "code",
   "execution_count": 24,
   "metadata": {},
   "outputs": [
    {
     "data": {
      "text/plain": [
       "array([11.12464002, 12.81770146, 10.80579561,  9.98517974, 12.50131725,\n",
       "        8.53772565, 11.95160817, 13.12196383, 11.29144666, 10.57204445,\n",
       "        9.52048977, 12.95392486,  9.37270313, 11.54723612, 11.15410923,\n",
       "       10.33076709, 10.72517408, 10.69627445, 10.43148589, 11.92730007,\n",
       "       10.75510823, 12.48536247,  9.88942829, 10.65111402, 14.53245046,\n",
       "       10.1204569 , 14.81131508, 10.44911226, 12.62198812, 12.86479561,\n",
       "       10.73799174,  8.60966653, 14.1739416 , 12.46351195, 10.83035074,\n",
       "       10.29936368, 10.96261704, 10.47609559, 13.43770043, 11.26781777,\n",
       "       11.21533624,  9.14141899, 10.77116769, 10.82675333, 10.95844136,\n",
       "       10.22338049, 10.1004382 , 15.51075498, 12.79654446, 11.12837299,\n",
       "       10.32961104, 11.24144241,  9.71482506, 11.85701516, 11.59424539,\n",
       "       10.83220798,  9.83984745, 13.2162558 ,  9.63979325,  9.4196262 ,\n",
       "       10.8930819 , 10.47030489,  8.51739775,  9.54890185,  8.60917838,\n",
       "        9.5551184 , 11.3221127 , 10.05310248, 14.20288885, 10.21320175,\n",
       "        8.33654888, 11.16279893,  9.20446093, 10.22352951, 12.6845108 ,\n",
       "       12.2749923 , 10.63131247,  8.58308473, 11.75144386, 10.76666558,\n",
       "        9.72322173, 10.01878938, 12.17107222, 11.18697406,  8.02035955,\n",
       "       11.90939121, 12.43672383, 10.28969715, 13.41853324,  9.89103299,\n",
       "       11.57609287,  9.91383366,  8.05361981,  9.49792537, 12.70704444,\n",
       "        9.35092368,  9.97670096,  9.62478884, 11.58312574,  9.71599453])"
      ]
     },
     "execution_count": 24,
     "metadata": {},
     "output_type": "execute_result"
    }
   ],
   "source": [
    "mvue_values=np.sqrt(np.mean(sample_rayleigh**2,axis=1)/2)\n",
    "mvue_values"
   ]
  },
  {
   "cell_type": "code",
   "execution_count": 13,
   "metadata": {},
   "outputs": [],
   "source": [
    "import matplotlib.pyplot as plt"
   ]
  },
  {
   "cell_type": "code",
   "execution_count": 15,
   "metadata": {},
   "outputs": [
    {
     "data": {
      "text/plain": [
       "(array([ 3., 10., 11., 20., 11., 12., 12., 11.,  4.,  6.]),\n",
       " array([0.12148347, 0.89118431, 1.66088516, 2.430586  , 3.20028684,\n",
       "        3.96998768, 4.73968852, 5.50938937, 6.27909021, 7.04879105,\n",
       "        7.81849189]),\n",
       " <a list of 10 Patch objects>)"
      ]
     },
     "execution_count": 15,
     "metadata": {},
     "output_type": "execute_result"
    },
    {
     "data": {
      "image/png": "[encoded data removed]",
      "text/plain": [
       "<Figure size 432x288 with 1 Axes>"
      ]
     },
     "metadata": {
      "needs_background": "light"
     },
     "output_type": "display_data"
    }
   ],
   "source": [
    "plt.hist(sample_mode)"
   ]
  },
  {
   "cell_type": "code",
   "execution_count": 20,
   "metadata": {},
   "outputs": [
    {
     "data": {
      "text/plain": [
       "13.826490076408193"
      ]
     },
     "execution_count": 20,
     "metadata": {},
     "output_type": "execute_result"
    }
   ],
   "source": [
    "np.mean(sample_means)"
   ]
  },
  {
   "cell_type": "code",
   "execution_count": 21,
   "metadata": {},
   "outputs": [
    {
     "data": {
      "text/plain": [
       "3.885778840177805"
      ]
     },
     "execution_count": 21,
     "metadata": {},
     "output_type": "execute_result"
    }
   ],
   "source": [
    "np.var(sample_means)"
   ]
  },
  {
   "cell_type": "code",
   "execution_count": 22,
   "metadata": {},
   "outputs": [
    {
     "data": {
      "text/plain": [
       "3.8365166254377656"
      ]
     },
     "execution_count": 22,
     "metadata": {},
     "output_type": "execute_result"
    }
   ],
   "source": [
    "np.mean(sample_mode)"
   ]
  },
  {
   "cell_type": "code",
   "execution_count": 23,
   "metadata": {},
   "outputs": [
    {
     "data": {
      "text/plain": [
       "3.3874081433089973"
      ]
     },
     "execution_count": 23,
     "metadata": {},
     "output_type": "execute_result"
    }
   ],
   "source": [
    "np.var(sample_mode)"
   ]
  },
  {
   "cell_type": "code",
   "execution_count": 25,
   "metadata": {},
   "outputs": [
    {
     "data": {
      "text/plain": [
       "(array([ 8.,  6., 21., 24., 15., 10.,  9.,  2.,  3.,  2.]),\n",
       " array([ 8.02035955,  8.7693991 ,  9.51843864, 10.26747818, 11.01651772,\n",
       "        11.76555727, 12.51459681, 13.26363635, 14.01267589, 14.76171544,\n",
       "        15.51075498]),\n",
       " <a list of 10 Patch objects>)"
      ]
     },
     "execution_count": 25,
     "metadata": {},
     "output_type": "execute_result"
    },
    {
     "data": {
      "image/png": "[encoded data removed]",
      "text/plain": [
       "<Figure size 432x288 with 1 Axes>"
      ]
     },
     "metadata": {
      "needs_background": "light"
     },
     "output_type": "display_data"
    }
   ],
   "source": [
    "plt.hist(mvue_values)"
   ]
  },
  {
   "cell_type": "code",
   "execution_count": 26,
   "metadata": {},
   "outputs": [
    {
     "data": {
      "text/plain": [
       "10.942370367473197"
      ]
     },
     "execution_count": 26,
     "metadata": {},
     "output_type": "execute_result"
    }
   ],
   "source": [
    "np.mean(mvue_values)"
   ]
  },
  {
   "cell_type": "code",
   "execution_count": 27,
   "metadata": {},
   "outputs": [
    {
     "data": {
      "text/plain": [
       "2.305241645019099"
      ]
     },
     "execution_count": 27,
     "metadata": {},
     "output_type": "execute_result"
    }
   ],
   "source": [
    "np.var(mvue_values)"
   ]
  },
  {
   "cell_type": "code",
   "execution_count": 29,
   "metadata": {},
   "outputs": [],
   "source": [
    "# CLT is proved, s mvue value is close to 11. the mode we have given the rayleigh"
   ]
  },
  {
   "cell_type": "code",
   "execution_count": null,
   "metadata": {},
   "outputs": [],
   "source": []
  }
 ],
 "metadata": {
  "kernelspec": {
   "display_name": "Python 3",
   "language": "python",
   "name": "python3"
  },
  "language_info": {
   "codemirror_mode": {
    "name": "ipython",
    "version": 3
   },
   "file_extension": ".py",
   "mimetype": "text/x-python",
   "name": "python",
   "nbconvert_exporter": "python",
   "pygments_lexer": "ipython3",
   "version": "3.7.3"
  }
 },
 "nbformat": 4,
 "nbformat_minor": 2
}
