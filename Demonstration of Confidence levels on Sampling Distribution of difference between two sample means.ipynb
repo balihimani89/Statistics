{
 "cells": [
  {
   "cell_type": "code",
   "execution_count": 11,
   "metadata": {},
   "outputs": [],
   "source": [
    "import numpy as np"
   ]
  },
  {
   "cell_type": "code",
   "execution_count": 12,
   "metadata": {},
   "outputs": [],
   "source": [
    "sample1=np.random.normal(loc=65,scale=5,size=(100,35))\n",
    "sample2=np.random.normal(loc=30,scale=5,size=(100,35))"
   ]
  },
  {
   "cell_type": "code",
   "execution_count": 13,
   "metadata": {},
   "outputs": [],
   "source": [
    "import matplotlib.pyplot as plt"
   ]
  },
  {
   "cell_type": "code",
   "execution_count": 14,
   "metadata": {},
   "outputs": [],
   "source": [
    "sample1_mean=np.mean(sample1,axis=1)\n",
    "sample2_mean=np.mean(sample2,axis=1)\n"
   ]
  },
  {
   "cell_type": "code",
   "execution_count": 15,
   "metadata": {},
   "outputs": [
    {
     "data": {
      "text/plain": [
       "Text(0, 0.5, 'frequency')"
      ]
     },
     "execution_count": 15,
     "metadata": {},
     "output_type": "execute_result"
    },
    {
     "data": {
      "image/png": "[encoded data removed]",
      "text/plain": [
       "<Figure size 432x288 with 1 Axes>"
      ]
     },
     "metadata": {
      "needs_background": "light"
     },
     "output_type": "display_data"
    }
   ],
   "source": [
    "plt.hist(sample1_mean,bins=11)\n",
    "plt.xlabel(\"means_sample1\")\n",
    "plt.ylabel(\"frequency\")"
   ]
  },
  {
   "cell_type": "code",
   "execution_count": 16,
   "metadata": {},
   "outputs": [
    {
     "data": {
      "text/plain": [
       "Text(0, 0.5, 'frequency')"
      ]
     },
     "execution_count": 16,
     "metadata": {},
     "output_type": "execute_result"
    },
    {
     "data": {
      "image/png": "[encoded data removed]",
      "text/plain": [
       "<Figure size 432x288 with 1 Axes>"
      ]
     },
     "metadata": {
      "needs_background": "light"
     },
     "output_type": "display_data"
    }
   ],
   "source": [
    "plt.hist(sample2_mean,bins=11)\n",
    "plt.xlabel(\"means_sample2\")\n",
    "plt.ylabel(\"frequency\")"
   ]
  },
  {
   "cell_type": "code",
   "execution_count": 31,
   "metadata": {},
   "outputs": [
    {
     "data": {
      "text/plain": [
       "array([33.04989822, 34.94056427, 36.51808069, 34.20350313, 31.32869296,\n",
       "       33.24642772, 34.46562695, 32.93333197, 36.37427953, 36.17860061,\n",
       "       35.29009768, 34.56711871, 35.00761895, 32.02661955, 34.86864317,\n",
       "       34.475314  , 33.20209024, 35.53784939, 36.36303078, 34.8640319 ,\n",
       "       34.81376678, 34.36619417, 35.81205299, 33.09229248, 35.18407208,\n",
       "       33.31390677, 36.45945633, 34.3272516 , 34.74441991, 34.45358702,\n",
       "       36.43924414, 35.08837964, 33.80666885, 32.45644083, 35.56213804,\n",
       "       32.87869198, 34.46007074, 35.27581118, 36.6713925 , 34.67234746,\n",
       "       34.46999094, 37.3444282 , 35.99315522, 36.19389639, 36.14820601,\n",
       "       33.47215246, 35.8162851 , 34.41626295, 34.08526606, 35.90738449,\n",
       "       34.50179987, 34.18302048, 32.41255107, 33.46692893, 37.03478364,\n",
       "       34.90212105, 34.45774326, 35.56592095, 35.18738484, 36.21744933,\n",
       "       36.18634142, 35.11845172, 33.87079961, 35.43857031, 35.8778039 ,\n",
       "       34.68675421, 34.37302633, 36.01997519, 34.16970149, 34.85032214,\n",
       "       36.14769178, 33.60442493, 34.9418648 , 33.46185226, 34.31196443,\n",
       "       35.73295701, 35.39310777, 35.59099955, 35.69395475, 33.36975627,\n",
       "       35.09587226, 35.32619054, 34.03876257, 34.21606411, 34.66672131,\n",
       "       33.15616962, 36.04941065, 32.97767572, 34.96088097, 32.42074091,\n",
       "       35.18262573, 34.73724031, 33.61315139, 36.0825449 , 35.92024121,\n",
       "       34.07480268, 36.13503631, 34.78872875, 36.72538456, 35.63460975])"
      ]
     },
     "execution_count": 31,
     "metadata": {},
     "output_type": "execute_result"
    }
   ],
   "source": [
    "diff_mean_sample=sample1_mean-sample2_mean\n",
    "diff_mean_sample"
   ]
  },
  {
   "cell_type": "code",
   "execution_count": 32,
   "metadata": {},
   "outputs": [
    {
     "data": {
      "text/plain": [
       "(array([ 1.,  3.,  3., 11.,  5., 19., 18., 14., 17.,  7.,  2.]),\n",
       " array([31.32869296, 31.87557798, 32.422463  , 32.96934803, 33.51623305,\n",
       "        34.06311807, 34.61000309, 35.15688812, 35.70377314, 36.25065816,\n",
       "        36.79754318, 37.3444282 ]),\n",
       " <a list of 11 Patch objects>)"
      ]
     },
     "execution_count": 32,
     "metadata": {},
     "output_type": "execute_result"
    },
    {
     "data": {
      "image/png": "[encoded data removed]",
      "text/plain": [
       "<Figure size 432x288 with 1 Axes>"
      ]
     },
     "metadata": {
      "needs_background": "light"
     },
     "output_type": "display_data"
    }
   ],
   "source": [
    "plt.hist(diff_mean_sample,bins=11)"
   ]
  },
  {
   "cell_type": "code",
   "execution_count": 34,
   "metadata": {},
   "outputs": [
    {
     "data": {
      "text/plain": [
       "34.797395112964416"
      ]
     },
     "execution_count": 34,
     "metadata": {},
     "output_type": "execute_result"
    }
   ],
   "source": [
    "diff_mean=np.mean(diff_mean_sample)\n",
    "diff_mean"
   ]
  },
  {
   "cell_type": "code",
   "execution_count": 35,
   "metadata": {},
   "outputs": [
    {
     "data": {
      "text/plain": [
       "34.79739511296441"
      ]
     },
     "execution_count": 35,
     "metadata": {},
     "output_type": "execute_result"
    }
   ],
   "source": [
    "np.mean(sample1)-np.mean(sample2)"
   ]
  },
  {
   "cell_type": "code",
   "execution_count": 36,
   "metadata": {},
   "outputs": [
    {
     "data": {
      "text/plain": [
       "1.4401258012394047"
      ]
     },
     "execution_count": 36,
     "metadata": {},
     "output_type": "execute_result"
    }
   ],
   "source": [
    "np.var(diff_mean_sample)"
   ]
  },
  {
   "cell_type": "code",
   "execution_count": 38,
   "metadata": {},
   "outputs": [
    {
     "data": {
      "text/plain": [
       "64.9042303817522"
      ]
     },
     "execution_count": 38,
     "metadata": {},
     "output_type": "execute_result"
    }
   ],
   "source": [
    "mu1cap_best=np.mean(sample1_mean)\n",
    "mu1cap_best"
   ]
  },
  {
   "cell_type": "code",
   "execution_count": 41,
   "metadata": {},
   "outputs": [
    {
     "data": {
      "text/plain": [
       "30.10683526878781"
      ]
     },
     "execution_count": 41,
     "metadata": {},
     "output_type": "execute_result"
    }
   ],
   "source": [
    "mu2cap_best=np.mean(sample2_mean)\n",
    "mu2cap_best"
   ]
  },
  {
   "cell_type": "code",
   "execution_count": 42,
   "metadata": {},
   "outputs": [
    {
     "data": {
      "text/plain": [
       "34.797395112964395"
      ]
     },
     "execution_count": 42,
     "metadata": {},
     "output_type": "execute_result"
    }
   ],
   "source": [
    "diff_mean_best=mu1cap_best-mu2cap_best\n",
    "diff_mean_best"
   ]
  },
  {
   "cell_type": "code",
   "execution_count": 47,
   "metadata": {},
   "outputs": [
    {
     "data": {
      "text/plain": [
       "37.1494978483995"
      ]
     },
     "execution_count": 47,
     "metadata": {},
     "output_type": "execute_result"
    }
   ],
   "source": [
    "ucb=diff_mean_best+1.96*np.sqrt(np.var(diff_mean_sample))\n",
    "ucb"
   ]
  },
  {
   "cell_type": "code",
   "execution_count": 48,
   "metadata": {},
   "outputs": [
    {
     "data": {
      "text/plain": [
       "32.44529237752929"
      ]
     },
     "execution_count": 48,
     "metadata": {},
     "output_type": "execute_result"
    }
   ],
   "source": [
    "lcb=diff_mean_best-1.96*np.sqrt(np.var(diff_mean_sample))\n",
    "lcb"
   ]
  },
  {
   "cell_type": "code",
   "execution_count": 50,
   "metadata": {},
   "outputs": [],
   "source": [
    "samples_from_diff_samples=np.random.normal(loc=diff_mean,scale=np.sqrt(np.var(diff_mean_sample)),size=(10,100))"
   ]
  },
  {
   "cell_type": "code",
   "execution_count": 51,
   "metadata": {},
   "outputs": [],
   "source": [
    "boolean_mask=(samples_from_diff_samples>lcb) & (samples_from_diff_samples<ucb)"
   ]
  },
  {
   "cell_type": "code",
   "execution_count": 54,
   "metadata": {},
   "outputs": [
    {
     "data": {
      "text/plain": [
       "array([95, 94, 93, 94, 93, 94, 95, 99, 92, 97], dtype=int64)"
      ]
     },
     "execution_count": 54,
     "metadata": {},
     "output_type": "execute_result"
    }
   ],
   "source": [
    "np.count_nonzero(boolean_mask,axis=1)"
   ]
  },
  {
   "cell_type": "code",
   "execution_count": 55,
   "metadata": {},
   "outputs": [
    {
     "data": {
      "text/plain": [
       "94.6"
      ]
     },
     "execution_count": 55,
     "metadata": {},
     "output_type": "execute_result"
    }
   ],
   "source": [
    "np.mean(np.count_nonzero(boolean_mask,axis=1))"
   ]
  },
  {
   "cell_type": "code",
   "execution_count": null,
   "metadata": {},
   "outputs": [],
   "source": []
  }
 ],
 "metadata": {
  "kernelspec": {
   "display_name": "Python 3",
   "language": "python",
   "name": "python3"
  },
  "language_info": {
   "codemirror_mode": {
    "name": "ipython",
    "version": 3
   },
   "file_extension": ".py",
   "mimetype": "text/x-python",
   "name": "python",
   "nbconvert_exporter": "python",
   "pygments_lexer": "ipython3",
   "version": "3.7.3"
  }
 },
 "nbformat": 4,
 "nbformat_minor": 2
}
