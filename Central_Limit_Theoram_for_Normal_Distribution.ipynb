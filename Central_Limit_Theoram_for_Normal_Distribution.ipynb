{
 "cells": [
  {
   "cell_type": "code",
   "execution_count": 1,
   "metadata": {},
   "outputs": [],
   "source": [
    "import numpy as np"
   ]
  },
  {
   "cell_type": "markdown",
   "metadata": {},
   "source": [
    "Normal Distribution"
   ]
  },
  {
   "cell_type": "code",
   "execution_count": 15,
   "metadata": {},
   "outputs": [],
   "source": [
    "sample=np.random.normal(loc=65,scale=5,size=1000000)"
   ]
  },
  {
   "cell_type": "code",
   "execution_count": 6,
   "metadata": {},
   "outputs": [],
   "source": [
    "import matplotlib.pyplot as plt"
   ]
  },
  {
   "cell_type": "code",
   "execution_count": 13,
   "metadata": {},
   "outputs": [
    {
     "data": {
      "text/plain": [
       "(array([1.0000e+00, 0.0000e+00, 0.0000e+00, 0.0000e+00, 1.0000e+00,\n",
       "        0.0000e+00, 2.0000e+00, 0.0000e+00, 0.0000e+00, 0.0000e+00,\n",
       "        0.0000e+00, 0.0000e+00, 0.0000e+00, 1.0000e+00, 0.0000e+00,\n",
       "        2.0000e+00, 2.0000e+00, 0.0000e+00, 3.0000e+00, 0.0000e+00,\n",
       "        2.0000e+00, 2.0000e+00, 0.0000e+00, 2.0000e+00, 1.0000e+00,\n",
       "        5.0000e+00, 5.0000e+00, 5.0000e+00, 8.0000e+00, 6.0000e+00,\n",
       "        6.0000e+00, 6.0000e+00, 7.0000e+00, 8.0000e+00, 9.0000e+00,\n",
       "        1.2000e+01, 1.6000e+01, 1.3000e+01, 1.1000e+01, 1.8000e+01,\n",
       "        1.9000e+01, 2.5000e+01, 2.9000e+01, 2.7000e+01, 2.5000e+01,\n",
       "        4.6000e+01, 3.5000e+01, 3.5000e+01, 4.8000e+01, 6.4000e+01,\n",
       "        4.9000e+01, 6.0000e+01, 8.5000e+01, 8.0000e+01, 8.8000e+01,\n",
       "        9.4000e+01, 1.0800e+02, 1.3000e+02, 1.3100e+02, 1.2200e+02,\n",
       "        1.6300e+02, 1.8400e+02, 2.1200e+02, 2.3300e+02, 2.1200e+02,\n",
       "        2.6700e+02, 3.0300e+02, 3.1000e+02, 3.2400e+02, 3.9000e+02,\n",
       "        4.3500e+02, 4.7000e+02, 4.5400e+02, 5.2600e+02, 5.6100e+02,\n",
       "        6.4400e+02, 6.4500e+02, 7.5400e+02, 7.7300e+02, 8.9700e+02,\n",
       "        9.2400e+02, 9.8400e+02, 1.0490e+03, 1.1760e+03, 1.2020e+03,\n",
       "        1.3260e+03, 1.4180e+03, 1.5710e+03, 1.6750e+03, 1.7650e+03,\n",
       "        1.8570e+03, 1.9660e+03, 2.1300e+03, 2.2660e+03, 2.4080e+03,\n",
       "        2.5370e+03, 2.6470e+03, 2.8270e+03, 2.9900e+03, 3.1180e+03,\n",
       "        3.3030e+03, 3.4370e+03, 3.6910e+03, 3.9210e+03, 4.1980e+03,\n",
       "        4.3490e+03, 4.3920e+03, 4.8990e+03, 4.9850e+03, 5.3720e+03,\n",
       "        5.4650e+03, 5.7450e+03, 5.9400e+03, 6.1090e+03, 6.4370e+03,\n",
       "        6.7590e+03, 6.8890e+03, 7.2940e+03, 7.4830e+03, 7.8410e+03,\n",
       "        8.1610e+03, 8.2220e+03, 8.5110e+03, 8.6900e+03, 9.0160e+03,\n",
       "        9.2680e+03, 9.6010e+03, 9.7370e+03, 1.0252e+04, 1.0247e+04,\n",
       "        1.0511e+04, 1.0875e+04, 1.0905e+04, 1.1269e+04, 1.1365e+04,\n",
       "        1.1403e+04, 1.1752e+04, 1.1763e+04, 1.2126e+04, 1.2037e+04,\n",
       "        1.2311e+04, 1.2255e+04, 1.2726e+04, 1.2716e+04, 1.2882e+04,\n",
       "        1.2858e+04, 1.2916e+04, 1.2731e+04, 1.2924e+04, 1.2932e+04,\n",
       "        1.3072e+04, 1.2985e+04, 1.3006e+04, 1.3045e+04, 1.2958e+04,\n",
       "        1.2855e+04, 1.2822e+04, 1.2646e+04, 1.2657e+04, 1.2477e+04,\n",
       "        1.2257e+04, 1.2130e+04, 1.2315e+04, 1.2128e+04, 1.1727e+04,\n",
       "        1.1505e+04, 1.1457e+04, 1.1568e+04, 1.1099e+04, 1.0749e+04,\n",
       "        1.0663e+04, 1.0255e+04, 1.0285e+04, 9.7990e+03, 9.7080e+03,\n",
       "        9.4330e+03, 9.2450e+03, 8.9160e+03, 8.6030e+03, 8.3290e+03,\n",
       "        8.1620e+03, 7.9700e+03, 7.7710e+03, 7.4720e+03, 6.9620e+03,\n",
       "        6.8210e+03, 6.6410e+03, 6.4450e+03, 6.0670e+03, 5.8180e+03,\n",
       "        5.6820e+03, 5.2490e+03, 5.1160e+03, 4.9610e+03, 4.6260e+03,\n",
       "        4.4370e+03, 4.3310e+03, 4.0890e+03, 3.8260e+03, 3.6900e+03,\n",
       "        3.4130e+03, 3.2420e+03, 3.1410e+03, 2.9470e+03, 2.7940e+03,\n",
       "        2.7840e+03, 2.4330e+03, 2.2910e+03, 2.1920e+03, 2.0700e+03,\n",
       "        1.9590e+03, 1.7820e+03, 1.7680e+03, 1.5970e+03, 1.4620e+03,\n",
       "        1.3670e+03, 1.2830e+03, 1.1410e+03, 1.1400e+03, 1.0030e+03,\n",
       "        9.9500e+02, 8.6600e+02, 8.4800e+02, 7.8900e+02, 7.1000e+02,\n",
       "        6.3900e+02, 6.4600e+02, 5.3800e+02, 5.1100e+02, 4.8200e+02,\n",
       "        4.4400e+02, 4.1200e+02, 3.4600e+02, 3.5500e+02, 2.9400e+02,\n",
       "        3.0600e+02, 2.5100e+02, 2.4200e+02, 2.2200e+02, 1.8400e+02,\n",
       "        1.5100e+02, 1.3100e+02, 1.3900e+02, 1.3100e+02, 1.2500e+02,\n",
       "        1.3900e+02, 9.3000e+01, 8.8000e+01, 8.6000e+01, 6.2000e+01,\n",
       "        5.4000e+01, 6.6000e+01, 5.4000e+01, 5.1000e+01, 4.6000e+01,\n",
       "        3.9000e+01, 3.6000e+01, 4.1000e+01, 3.5000e+01, 2.4000e+01,\n",
       "        1.9000e+01, 1.0000e+01, 1.8000e+01, 1.3000e+01, 1.2000e+01,\n",
       "        1.2000e+01, 1.0000e+01, 9.0000e+00, 9.0000e+00, 6.0000e+00,\n",
       "        2.0000e+00, 9.0000e+00, 8.0000e+00, 3.0000e+00, 3.0000e+00,\n",
       "        5.0000e+00, 2.0000e+00, 1.0000e+00, 3.0000e+00, 1.0000e+00,\n",
       "        5.0000e+00, 1.0000e+00, 2.0000e+00, 0.0000e+00, 3.0000e+00,\n",
       "        0.0000e+00, 1.0000e+00, 0.0000e+00, 0.0000e+00, 0.0000e+00,\n",
       "        0.0000e+00, 0.0000e+00, 0.0000e+00, 1.0000e+00, 1.0000e+00,\n",
       "        1.0000e+00, 1.0000e+00, 0.0000e+00, 0.0000e+00, 1.0000e+00]),\n",
       " array([40.35106759, 40.51452299, 40.67797839, 40.84143379, 41.00488919,\n",
       "        41.16834459, 41.33179999, 41.49525539, 41.65871079, 41.82216619,\n",
       "        41.98562159, 42.14907699, 42.31253239, 42.47598779, 42.63944319,\n",
       "        42.80289859, 42.96635399, 43.12980939, 43.29326479, 43.45672019,\n",
       "        43.62017559, 43.78363098, 43.94708638, 44.11054178, 44.27399718,\n",
       "        44.43745258, 44.60090798, 44.76436338, 44.92781878, 45.09127418,\n",
       "        45.25472958, 45.41818498, 45.58164038, 45.74509578, 45.90855118,\n",
       "        46.07200658, 46.23546198, 46.39891738, 46.56237278, 46.72582818,\n",
       "        46.88928358, 47.05273898, 47.21619437, 47.37964977, 47.54310517,\n",
       "        47.70656057, 47.87001597, 48.03347137, 48.19692677, 48.36038217,\n",
       "        48.52383757, 48.68729297, 48.85074837, 49.01420377, 49.17765917,\n",
       "        49.34111457, 49.50456997, 49.66802537, 49.83148077, 49.99493617,\n",
       "        50.15839157, 50.32184697, 50.48530236, 50.64875776, 50.81221316,\n",
       "        50.97566856, 51.13912396, 51.30257936, 51.46603476, 51.62949016,\n",
       "        51.79294556, 51.95640096, 52.11985636, 52.28331176, 52.44676716,\n",
       "        52.61022256, 52.77367796, 52.93713336, 53.10058876, 53.26404416,\n",
       "        53.42749956, 53.59095496, 53.75441036, 53.91786575, 54.08132115,\n",
       "        54.24477655, 54.40823195, 54.57168735, 54.73514275, 54.89859815,\n",
       "        55.06205355, 55.22550895, 55.38896435, 55.55241975, 55.71587515,\n",
       "        55.87933055, 56.04278595, 56.20624135, 56.36969675, 56.53315215,\n",
       "        56.69660755, 56.86006295, 57.02351835, 57.18697375, 57.35042914,\n",
       "        57.51388454, 57.67733994, 57.84079534, 58.00425074, 58.16770614,\n",
       "        58.33116154, 58.49461694, 58.65807234, 58.82152774, 58.98498314,\n",
       "        59.14843854, 59.31189394, 59.47534934, 59.63880474, 59.80226014,\n",
       "        59.96571554, 60.12917094, 60.29262634, 60.45608174, 60.61953713,\n",
       "        60.78299253, 60.94644793, 61.10990333, 61.27335873, 61.43681413,\n",
       "        61.60026953, 61.76372493, 61.92718033, 62.09063573, 62.25409113,\n",
       "        62.41754653, 62.58100193, 62.74445733, 62.90791273, 63.07136813,\n",
       "        63.23482353, 63.39827893, 63.56173433, 63.72518973, 63.88864513,\n",
       "        64.05210052, 64.21555592, 64.37901132, 64.54246672, 64.70592212,\n",
       "        64.86937752, 65.03283292, 65.19628832, 65.35974372, 65.52319912,\n",
       "        65.68665452, 65.85010992, 66.01356532, 66.17702072, 66.34047612,\n",
       "        66.50393152, 66.66738692, 66.83084232, 66.99429772, 67.15775312,\n",
       "        67.32120852, 67.48466391, 67.64811931, 67.81157471, 67.97503011,\n",
       "        68.13848551, 68.30194091, 68.46539631, 68.62885171, 68.79230711,\n",
       "        68.95576251, 69.11921791, 69.28267331, 69.44612871, 69.60958411,\n",
       "        69.77303951, 69.93649491, 70.09995031, 70.26340571, 70.42686111,\n",
       "        70.59031651, 70.7537719 , 70.9172273 , 71.0806827 , 71.2441381 ,\n",
       "        71.4075935 , 71.5710489 , 71.7345043 , 71.8979597 , 72.0614151 ,\n",
       "        72.2248705 , 72.3883259 , 72.5517813 , 72.7152367 , 72.8786921 ,\n",
       "        73.0421475 , 73.2056029 , 73.3690583 , 73.5325137 , 73.6959691 ,\n",
       "        73.8594245 , 74.0228799 , 74.18633529, 74.34979069, 74.51324609,\n",
       "        74.67670149, 74.84015689, 75.00361229, 75.16706769, 75.33052309,\n",
       "        75.49397849, 75.65743389, 75.82088929, 75.98434469, 76.14780009,\n",
       "        76.31125549, 76.47471089, 76.63816629, 76.80162169, 76.96507709,\n",
       "        77.12853249, 77.29198789, 77.45544329, 77.61889868, 77.78235408,\n",
       "        77.94580948, 78.10926488, 78.27272028, 78.43617568, 78.59963108,\n",
       "        78.76308648, 78.92654188, 79.08999728, 79.25345268, 79.41690808,\n",
       "        79.58036348, 79.74381888, 79.90727428, 80.07072968, 80.23418508,\n",
       "        80.39764048, 80.56109588, 80.72455128, 80.88800667, 81.05146207,\n",
       "        81.21491747, 81.37837287, 81.54182827, 81.70528367, 81.86873907,\n",
       "        82.03219447, 82.19564987, 82.35910527, 82.52256067, 82.68601607,\n",
       "        82.84947147, 83.01292687, 83.17638227, 83.33983767, 83.50329307,\n",
       "        83.66674847, 83.83020387, 83.99365927, 84.15711467, 84.32057006,\n",
       "        84.48402546, 84.64748086, 84.81093626, 84.97439166, 85.13784706,\n",
       "        85.30130246, 85.46475786, 85.62821326, 85.79166866, 85.95512406,\n",
       "        86.11857946, 86.28203486, 86.44549026, 86.60894566, 86.77240106,\n",
       "        86.93585646, 87.09931186, 87.26276726, 87.42622266, 87.58967806,\n",
       "        87.75313345, 87.91658885, 88.08004425, 88.24349965, 88.40695505,\n",
       "        88.57041045, 88.73386585, 88.89732125, 89.06077665, 89.22423205,\n",
       "        89.38768745]),\n",
       " <a list of 300 Patch objects>)"
      ]
     },
     "execution_count": 13,
     "metadata": {},
     "output_type": "execute_result"
    },
    {
     "data": {
      "image/png": "[encoded data removed]",
      "text/plain": [
       "<Figure size 432x288 with 1 Axes>"
      ]
     },
     "metadata": {
      "needs_background": "light"
     },
     "output_type": "display_data"
    }
   ],
   "source": [
    "plt.hist(sample,bins=300)"
   ]
  },
  {
   "cell_type": "code",
   "execution_count": 18,
   "metadata": {},
   "outputs": [],
   "source": [
    "sample_new=np.random.normal(loc=65,scale=5,size=(100,15))"
   ]
  },
  {
   "cell_type": "code",
   "execution_count": 19,
   "metadata": {},
   "outputs": [],
   "source": [
    "sample_mean=np.mean(sample_new,axis=1)"
   ]
  },
  {
   "cell_type": "code",
   "execution_count": 21,
   "metadata": {},
   "outputs": [
    {
     "data": {
      "text/plain": [
       "(array([11., 30., 38., 16.,  5.]),\n",
       " array([62.02054747, 63.29154207, 64.56253667, 65.83353127, 67.10452587,\n",
       "        68.37552048]),\n",
       " <a list of 5 Patch objects>)"
      ]
     },
     "execution_count": 21,
     "metadata": {},
     "output_type": "execute_result"
    },
    {
     "data": {
      "image/png": "[encoded data removed]",
      "text/plain": [
       "<Figure size 432x288 with 1 Axes>"
      ]
     },
     "metadata": {
      "needs_background": "light"
     },
     "output_type": "display_data"
    }
   ],
   "source": [
    "plt.hist(sample_mean,bins=5)"
   ]
  },
  {
   "cell_type": "code",
   "execution_count": 22,
   "metadata": {},
   "outputs": [],
   "source": [
    "#this is not coming gaussian , so now will take another parameter to prove CLT"
   ]
  },
  {
   "cell_type": "code",
   "execution_count": 25,
   "metadata": {},
   "outputs": [
    {
     "data": {
      "text/plain": [
       "64.82495952540614"
      ]
     },
     "execution_count": 25,
     "metadata": {},
     "output_type": "execute_result"
    }
   ],
   "source": [
    "best_estimate=np.mean(sample_mean)\n",
    "best_estimate"
   ]
  },
  {
   "cell_type": "code",
   "execution_count": 28,
   "metadata": {},
   "outputs": [
    {
     "data": {
      "text/plain": [
       "1.6336635433571942"
      ]
     },
     "execution_count": 28,
     "metadata": {},
     "output_type": "execute_result"
    }
   ],
   "source": [
    "sd_variance=np.var(sample_mean)\n",
    "sd_variance"
   ]
  },
  {
   "cell_type": "code",
   "execution_count": 32,
   "metadata": {},
   "outputs": [
    {
     "data": {
      "text/plain": [
       "1.6666666666666667"
      ]
     },
     "execution_count": 32,
     "metadata": {},
     "output_type": "execute_result"
    }
   ],
   "source": [
    "var=5\n",
    "sample_size=15\n",
    "sd_variance_formulae=var**2/sample_size\n",
    "sd_variance_formulae"
   ]
  },
  {
   "cell_type": "markdown",
   "metadata": {},
   "source": []
  }
 ],
 "metadata": {
  "kernelspec": {
   "display_name": "Python 3",
   "language": "python",
   "name": "python3"
  },
  "language_info": {
   "codemirror_mode": {
    "name": "ipython",
    "version": 3
   },
   "file_extension": ".py",
   "mimetype": "text/x-python",
   "name": "python",
   "nbconvert_exporter": "python",
   "pygments_lexer": "ipython3",
   "version": "3.7.3"
  }
 },
 "nbformat": 4,
 "nbformat_minor": 2
}
